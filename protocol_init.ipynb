{
 "cells": [
  {
   "cell_type": "code",
   "execution_count": 2,
   "metadata": {},
   "outputs": [],
   "source": [
    "import random"
   ]
  },
  {
   "cell_type": "code",
   "execution_count": 19,
   "metadata": {},
   "outputs": [],
   "source": [
    "class BraidSignGroup:\n",
    "    def __init__(self, n, p, l):\n",
    "        self.p = p\n",
    "        self.l = l\n",
    "        self.n = n\n",
    "        self.B = BraidGroup(n)\n",
    "        self.identityElem = self.B([])\n",
    "        self.gens = self.B.generators()\n",
    "        self.leftGens = [g for g in self.gens if self.gens.index(g) + 1 <= (int(n / 2) - 1)]\n",
    "        self.rightGens = [g for g in self.gens if self.gens.index(g) + 1 >= (int(n / 2) + 1)]\n",
    "        self.magic = 5\n",
    "\n",
    "\n",
    "    def hash(self, U, m, T):\n",
    "        parts = [U]\n",
    "        parts.append(int(\"\".join([str(part) for part in [elem.encode(\"utf-8\").hex() for elem in m]]), 16))\n",
    "        #parts.append(int(\"\".join([str(part) for part in [elem.encode(\"hex\") for elem in m]]), 16))\n",
    "        parts.append(self.getIntFromBraid(T))\n",
    "        return int(\"\".join([str(part) for part in parts])) % (self.p-1) + 1\n",
    "    \n",
    "    def hash1(self, m):\n",
    "        return self.B([int(d) % (self.B.strands() - 1) + 1 for d in str(abs(hash(m)))])\n",
    "\n",
    "    def getPowForLeftForm(self, leftForm):\n",
    "        deltaPower = leftForm[0]\n",
    "        if deltaPower == self.identityElem:\n",
    "            return 0\n",
    "        else:\n",
    "            return deltaPower.exponent_sum()/self.B.delta().exponent_sum()\n",
    "\n",
    "\n",
    "    def getIntFromBraid(self, braid):\n",
    "        leftForm = braid.left_normal_form()\n",
    "        parts = [self.getPowForLeftForm(leftForm)]\n",
    "        for i in range(1, len(leftForm)):\n",
    "            parts.append(int(\"\".join([str(digit) for digit in leftForm[i].permutation()])))\n",
    "        return int(\"\".join([str(part) for part in parts]))\n",
    "\n",
    "\n",
    "    def ifFromSubgroupL(self, braid):\n",
    "        leftForm = braid.left_normal_form()\n",
    "        inf = self.getPowForLeftForm(leftForm)\n",
    "        sup = inf + len(leftForm) - 1\n",
    "        if(0 <= inf and inf <= sup and sup <= self.l):\n",
    "            return True\n",
    "        return False\n",
    "\n",
    "    def randLBElement(self):\n",
    "        r = random.randint(1, self.magic)\n",
    "        e = self.identityElem\n",
    "        for i in range(0, r):\n",
    "            e *= random.choice(self.leftGens)\n",
    "        return e\n",
    "\n",
    "    def randRBElement(self):\n",
    "        r = random.randint(1, self.magic)\n",
    "        e = self.identityElem\n",
    "        for i in range(0, r):\n",
    "            e *= random.choice(self.rightGens)\n",
    "        return e\n",
    "    def randLBlElement(self):\n",
    "        while True:\n",
    "            elem = self.randLBElement()\n",
    "            if(self.ifFromSubgroupL(elem)):\n",
    "                return elem\n",
    "\n",
    "\n",
    "    def randRBlElement(self):\n",
    "        while True:\n",
    "            elem = self.randRBElement()\n",
    "            if(self.ifFromSubgroupL(elem)):\n",
    "                return elem"
   ]
  },
  {
   "cell_type": "code",
   "execution_count": 8,
   "metadata": {},
   "outputs": [],
   "source": [
    "B = BraidGroup(10)"
   ]
  },
  {
   "cell_type": "code",
   "execution_count": 20,
   "metadata": {},
   "outputs": [],
   "source": [
    "bsg = BraidSignGroup(9, 17, 5)"
   ]
  },
  {
   "cell_type": "code",
   "execution_count": 5,
   "metadata": {},
   "outputs": [],
   "source": [
    "m = 10\n",
    "n = 10"
   ]
  },
  {
   "cell_type": "code",
   "execution_count": 6,
   "metadata": {},
   "outputs": [],
   "source": []
  },
  {
   "cell_type": "code",
   "execution_count": 9,
   "metadata": {},
   "outputs": [
    {
     "data": {
      "text/plain": [
       "s8^2*s0*s3*s7*s6*s2*s3*s1*s4*s7*s8^2*s1*s0^2*s8*s0*s7"
      ]
     },
     "execution_count": 9,
     "metadata": {},
     "output_type": "execute_result"
    }
   ],
   "source": [
    "import datetime\n",
    "mw = str(datetime.datetime.now())\n",
    "bsg.hash1(mw)"
   ]
  },
  {
   "cell_type": "code",
   "execution_count": 11,
   "metadata": {},
   "outputs": [
    {
     "data": {
      "text/plain": [
       "'s8^2*s0*s3*s7*s6*s2*s3*s1*s4*s7*s8^2*s1*s0^2*s8*s0*s7'"
      ]
     },
     "execution_count": 11,
     "metadata": {},
     "output_type": "execute_result"
    }
   ],
   "source": [
    "str(bsg.hash1(mw))"
   ]
  },
  {
   "cell_type": "code",
   "execution_count": 12,
   "metadata": {},
   "outputs": [],
   "source": [
    "import numpy as np"
   ]
  },
  {
   "cell_type": "code",
   "execution_count": 145,
   "metadata": {},
   "outputs": [
    {
     "data": {
      "text/plain": [
       "s1^-1*s2^-1*s1^-1*s0^-2"
      ]
     },
     "execution_count": 145,
     "metadata": {},
     "output_type": "execute_result"
    }
   ],
   "source": [
    "a**-1"
   ]
  },
  {
   "cell_type": "code",
   "execution_count": 146,
   "metadata": {},
   "outputs": [],
   "source": [
    "a_A = [bsg.randLBElement() for _ in range(m)]\n",
    "x_A = [bsg.randLBElement() for _ in range(m)]\n",
    "y_A = [(a_A[i]**-1) * x_A[i] * a_A[i]  for i in range(m)]\n",
    "sk_A = [a_A[i]  for i in range(m)]\n",
    "pk_A = [(x_A[i], y_A[i])  for i in range(m)]  #y\n",
    "\n",
    "b_B = [bsg.randLBElement() for _ in range(n)]\n",
    "x_B = [bsg.randLBElement() for _ in range(n)]\n",
    "y_B = [b_B[i] **-1 * x_B[i] * b_B[i]  for i in range(n)]    #коммутативно ли?\n",
    "sk_B = [b_B[i]  for i in range(n)]\n",
    "pk_B = [(x_B[i], y_B[i])  for i in range(n)]"
   ]
  },
  {
   "cell_type": "code",
   "execution_count": 147,
   "metadata": {},
   "outputs": [
    {
     "data": {
      "text/plain": [
       "[True, True, True, True, True, True, True, True, True, True]"
      ]
     },
     "execution_count": 147,
     "metadata": {},
     "output_type": "execute_result"
    }
   ],
   "source": [
    "[x_A[i].is_conjugated(y_A[i]) for i in range(n)]"
   ]
  },
  {
   "cell_type": "code",
   "execution_count": 148,
   "metadata": {},
   "outputs": [
    {
     "data": {
      "text/plain": [
       "[True, True, True, True, True, True, True, True, True, True]"
      ]
     },
     "execution_count": 148,
     "metadata": {},
     "output_type": "execute_result"
    }
   ],
   "source": [
    "H_mw = bsg.hash1(mw)\n",
    "k_A = [a_A[i] **-1 * H_mw * a_A[i]  for i in range(m)]\n",
    "[k_A[i].is_conjugated(H_mw)  for i in range(m)]"
   ]
  },
  {
   "cell_type": "code",
   "execution_count": 149,
   "metadata": {},
   "outputs": [],
   "source": [
    "##import numpy as np (to top import)\n",
    "k_pow = np.prod(k_A)  #надо проверить будет работать или нет умножение всех элементов массива\n",
    "g = [k_pow * b_B[i]  for i in range(n)]\n",
    "x_g = [bsg.randLBElement() for _ in range(n)]\n",
    "y_g = [g[i] **-1 * x_g[i] * g[i]  for i in range(n)]   #i = j?"
   ]
  },
  {
   "cell_type": "code",
   "execution_count": 150,
   "metadata": {},
   "outputs": [],
   "source": [
    "t=random.randrange(math.ceil(n*0.6),n+1,1)\n",
    "primes = Primes()[1:10]\n",
    "c_ = [random.choice(primes) for _ in range(t)]\n",
    "sigma_B = [g[i]**c_[i] for i in range(t)]"
   ]
  },
  {
   "cell_type": "code",
   "execution_count": 151,
   "metadata": {},
   "outputs": [
    {
     "data": {
      "text/plain": [
       "[s1^2,\n",
       " s2*s1*s0^2*s2,\n",
       " s0*s1^2,\n",
       " s2*s0^2,\n",
       " s0*s1*s2*s0,\n",
       " s2*s1*s0^2,\n",
       " s1^4*s2,\n",
       " s1*s0*s2]"
      ]
     },
     "execution_count": 151,
     "metadata": {},
     "output_type": "execute_result"
    }
   ],
   "source": [
    "c = [bsg.randLBElement() for _ in range(t)]\n",
    "c"
   ]
  },
  {
   "cell_type": "code",
   "execution_count": 152,
   "metadata": {},
   "outputs": [],
   "source": [
    "msg = 'abc'"
   ]
  },
  {
   "cell_type": "code",
   "execution_count": 153,
   "metadata": {},
   "outputs": [
    {
     "data": {
      "text/plain": [
       "[True, True, True, True, True, True, True, True]"
      ]
     },
     "execution_count": 153,
     "metadata": {},
     "output_type": "execute_result"
    }
   ],
   "source": [
    "sigma_B_shtrih = [ c[i] **-1 * sigma_B[i] * c[i]  for i in range(t) ] \n",
    "V = [bsg.hash1(msg + str(sigma_B_shtrih[i]))  for i in range(t)]  #?\n",
    "U_shtrih = [g[i] **-1 * V[i] * g[i] for i in range(t) ]\n",
    "[U_shtrih[i].is_conjugated(V[i])  for i in range(t)]"
   ]
  },
  {
   "cell_type": "code",
   "execution_count": 188,
   "metadata": {},
   "outputs": [
    {
     "data": {
      "text/plain": [
       "[s1*s0*s4*s1*s4*s6*s0*s6*s5*s1^2*s3^2*s0^2*s1^2*s6*s4,\n",
       " s3*s1*s3*s0*s6*s0^3*s6*s4*s0*s3*s2*s0^2*s7*s0^2*s4,\n",
       " s3^2*s1*s6*s3*s2*s0*s5*s1^2*s3*s4*s1^2*s6*s0^2*s6*s4,\n",
       " s5*s1*s2*s1*s7*s6^3*s3*s0*s5*s4*s1*s5*s0*s3*s6*s0*s5,\n",
       " s2*s1*s6^3*s0*s5*s6*s3*s2*s6^2*s1*s6^2*s0*s3*s2*s0,\n",
       " s1*s0*s1*s4*s1*s3*s0*s3*s5^2*s7*s2*s0^2*s1^2*s2*s4*s5,\n",
       " s5^2*s0^3*s6*s4*s3*s2*s3*s4*s0*s5*s7*s0*s1^3*s6,\n",
       " s5*s4^2*s1*s0*s4*s0*s1*s0*s4^2*s1*s2*s1*s0*(s5*s1)^2]"
      ]
     },
     "execution_count": 188,
     "metadata": {},
     "output_type": "execute_result"
    }
   ],
   "source": []
  },
  {
   "cell_type": "code",
   "execution_count": 160,
   "metadata": {},
   "outputs": [],
   "source": [
    "def prod(a):\n",
    "    a = a\n",
    "    r = a[0]\n",
    "    for aa in a[1:]:\n",
    "        r = r * aa\n",
    "    return r"
   ]
  },
  {
   "cell_type": "code",
   "execution_count": 120,
   "metadata": {},
   "outputs": [],
   "source": [
    "a = np.prod(U_shtrih)\n",
    "b = prod(U_shtrih)"
   ]
  },
  {
   "cell_type": "code",
   "execution_count": 173,
   "metadata": {},
   "outputs": [],
   "source": [
    "vv = [bsg.randLBElement() for _ in range(3)]\n",
    "beta = [bsg.randLBElement() for _ in range(3)]\n",
    "alpha = [bsg.randLBElement() for _ in range(3)]\n",
    "xx = [bsg.randLBElement() for _ in range(3)]\n",
    "yy = [alpha[i] * xx[i] / alpha[i] for i in range(3)]"
   ]
  },
  {
   "cell_type": "code",
   "execution_count": 174,
   "metadata": {},
   "outputs": [],
   "source": [
    "t = prod([beta[i]**-1 * vv[i] * beta[i] for i in range(3)])\n",
    "t = t * prod([yy[i] for i in range(3)])"
   ]
  },
  {
   "cell_type": "code",
   "execution_count": 175,
   "metadata": {},
   "outputs": [],
   "source": [
    "k = prod([beta[i] **-1for i in range(3)]) * prod([alpha[i] **-1for i in range(3)])\n",
    "k = k * prod(vv) * prod(xx) * prod(alpha) * prod(beta)"
   ]
  },
  {
   "cell_type": "code",
   "execution_count": 176,
   "metadata": {},
   "outputs": [
    {
     "data": {
      "text/plain": [
       "False"
      ]
     },
     "execution_count": 176,
     "metadata": {},
     "output_type": "execute_result"
    }
   ],
   "source": [
    "t.is_conjugated(k)"
   ]
  },
  {
   "cell_type": "code",
   "execution_count": 183,
   "metadata": {},
   "outputs": [],
   "source": [
    "a, b, c, d = bsg.randLBElement(), bsg.randLBElement(), bsg.randLBElement(), bsg.randLBElement()"
   ]
  },
  {
   "cell_type": "code",
   "execution_count": 186,
   "metadata": {},
   "outputs": [
    {
     "data": {
      "text/plain": [
       "False"
      ]
     },
     "execution_count": 186,
     "metadata": {},
     "output_type": "execute_result"
    }
   ],
   "source": [
    "(a*b/a*c*d/c).is_conjugated(a*c*b*d/a/c)"
   ]
  },
  {
   "cell_type": "code",
   "execution_count": 138,
   "metadata": {},
   "outputs": [],
   "source": [
    "a = bsg.randLBElement()\n",
    "b = bsg.randLBElement()\n",
    "\n",
    "c = a*b\n",
    "d = b*a"
   ]
  },
  {
   "cell_type": "code",
   "execution_count": 219,
   "metadata": {},
   "outputs": [],
   "source": [
    "c = a * b / a"
   ]
  },
  {
   "cell_type": "code",
   "execution_count": 223,
   "metadata": {},
   "outputs": [
    {
     "data": {
      "text/plain": [
       "s1*s2^4"
      ]
     },
     "execution_count": 223,
     "metadata": {},
     "output_type": "execute_result"
    }
   ],
   "source": [
    "a **-1 * c * a"
   ]
  },
  {
   "cell_type": "code",
   "execution_count": 221,
   "metadata": {},
   "outputs": [
    {
     "data": {
      "text/plain": [
       "s1*s2^4"
      ]
     },
     "execution_count": 221,
     "metadata": {},
     "output_type": "execute_result"
    }
   ],
   "source": [
    "b"
   ]
  },
  {
   "cell_type": "code",
   "execution_count": 142,
   "metadata": {},
   "outputs": [
    {
     "data": {
      "text/plain": [
       "(s0^2*s1*s2*s1^3*s2*s0, s1^2*s2*s0^3*s1*s2*s1)"
      ]
     },
     "execution_count": 142,
     "metadata": {},
     "output_type": "execute_result"
    }
   ],
   "source": [
    "c, d"
   ]
  },
  {
   "cell_type": "code",
   "execution_count": 143,
   "metadata": {},
   "outputs": [
    {
     "data": {
      "text/plain": [
       "True"
      ]
     },
     "execution_count": 143,
     "metadata": {},
     "output_type": "execute_result"
    }
   ],
   "source": [
    "c.is_conjugated(d)"
   ]
  },
  {
   "cell_type": "code",
   "execution_count": 154,
   "metadata": {},
   "outputs": [],
   "source": [
    "U = np.prod(U_shtrih)"
   ]
  },
  {
   "cell_type": "code",
   "execution_count": 155,
   "metadata": {},
   "outputs": [
    {
     "data": {
      "text/plain": [
       "False"
      ]
     },
     "execution_count": 155,
     "metadata": {},
     "output_type": "execute_result"
    }
   ],
   "source": [
    "(U*np.prod(y_A)).is_conjugated(np.prod(V)*np.prod(x_A))"
   ]
  },
  {
   "cell_type": "code",
   "execution_count": null,
   "metadata": {},
   "outputs": [],
   "source": []
  },
  {
   "cell_type": "code",
   "execution_count": 13,
   "metadata": {},
   "outputs": [
    {
     "ename": "IndentationError",
     "evalue": "expected an indented block (<ipython-input-13-1fa2f512ace6>, line 17)",
     "output_type": "error",
     "traceback": [
      "\u001b[0;36m  File \u001b[0;32m\"<ipython-input-13-1fa2f512ace6>\"\u001b[0;36m, line \u001b[0;32m17\u001b[0m\n\u001b[0;31m    k_pow = np.prod(k_A)  #надо проверить будет работать или нет умножение всех элементов массива\u001b[0m\n\u001b[0m        ^\u001b[0m\n\u001b[0;31mIndentationError\u001b[0m\u001b[0;31m:\u001b[0m expected an indented block\n"
     ]
    }
   ],
   "source": [
    "\n",
    "#-----------------------------------\n",
    "H_mw = bsg.hash1(mw)\n",
    "k_A = [a_A[i] * H_mw / a_A[i]  for i in range(m)]\n",
    "check1 = [k_A[i].is_conjugated(H_mw)  for i in range(m)]\n",
    "\n",
    "\n",
    "##import numpy as np (to top import)\n",
    "k_pow = np.prod(k_A)  #надо проверить будет работать или нет умножение всех элементов массива\n",
    "g = [k_pow * b_B[i]  for i in range(n)]\n",
    "x_g = [bsg.randLBlElement() for _ in range(n)]\n",
    "y_g = [g[i] * x_g[i] / g[i]  for i in range(n)]   #i = j?\n",
    "\n",
    "#--------------------------------------\n",
    "t=random.randrange(math.ceil(n*0.6),n+1,1)\n",
    "primes = [i for i in range(3,40) if isPrime(i)]\n",
    "c_ = [random.choice(primes) for _ in range(t)]\n",
    "sigma_B = [g[i]**c_[i] for i in range(t)]\n",
    "с = [bsg.randLBlElement() for _ in range(t)]\n",
    "sigma_B_shtrih = [ c[i] * sigma_B[i] / c[i]  for i in range(t) ] \n",
    "V = [hash2(m + sigma_B_shtrih[i])  for i in range(t)]  #?\n",
    "U_shtrih = [g[i] * V[i] / g[i] for i in range(t) ]\n",
    "check2 = [U_shtrih[i].is_conjugated(V[i])  for i in range(t)]\n",
    "if 'false' in check2:\n",
    "\t#abort()\n",
    "U = np.prod(U_shtrih)\n",
    "#--------------------------------------------\n",
    "checkSign = U*np.prod(y_A).is_conjugated(np.prod(V)*np.prod(x_A))"
   ]
  },
  {
   "cell_type": "code",
   "execution_count": 211,
   "metadata": {},
   "outputs": [],
   "source": [
    "R = PolynomialRing(QQ, 't')"
   ]
  },
  {
   "cell_type": "code",
   "execution_count": 192,
   "metadata": {},
   "outputs": [],
   "source": [
    "R, t = R.objgen()"
   ]
  },
  {
   "cell_type": "code",
   "execution_count": 194,
   "metadata": {},
   "outputs": [],
   "source": [
    "f = 2*t^7 + 3*t^2 - 15/19"
   ]
  },
  {
   "cell_type": "code",
   "execution_count": 207,
   "metadata": {},
   "outputs": [],
   "source": [
    "X = [randint(0, 10000) for _ in range(8)]\n",
    "Y = [f(x) for x in X]\n",
    "points = list(zip(X, Y))"
   ]
  },
  {
   "cell_type": "code",
   "execution_count": 209,
   "metadata": {},
   "outputs": [
    {
     "data": {
      "text/plain": [
       "2*t^7 + 3*t^2 - 15/19"
      ]
     },
     "execution_count": 209,
     "metadata": {},
     "output_type": "execute_result"
    }
   ],
   "source": [
    "R.lagrange_polynomial(points)"
   ]
  },
  {
   "cell_type": "code",
   "execution_count": 206,
   "metadata": {},
   "outputs": [
    {
     "data": {
      "text/plain": [
       "<zip object at 0x7fee3a8bc870>"
      ]
     },
     "execution_count": 206,
     "metadata": {},
     "output_type": "execute_result"
    }
   ],
   "source": [
    "points"
   ]
  },
  {
   "cell_type": "code",
   "execution_count": null,
   "metadata": {},
   "outputs": [],
   "source": []
  }
 ],
 "metadata": {
  "kernelspec": {
   "display_name": "SageMath 9.0",
   "language": "sage",
   "name": "sagemath"
  },
  "language_info": {
   "codemirror_mode": {
    "name": "ipython",
    "version": 3
   },
   "file_extension": ".py",
   "mimetype": "text/x-python",
   "name": "python",
   "nbconvert_exporter": "python",
   "pygments_lexer": "ipython3",
   "version": "3.7.6"
  }
 },
 "nbformat": 4,
 "nbformat_minor": 2
}
