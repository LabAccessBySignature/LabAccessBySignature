{
 "cells": [
  {
   "cell_type": "code",
   "execution_count": 9,
   "metadata": {},
   "outputs": [],
   "source": [
    "import random"
   ]
  },
  {
   "cell_type": "code",
   "execution_count": 121,
   "metadata": {},
   "outputs": [],
   "source": [
    "class BraidSignGroup:\n",
    "    def __init__(self, n, p, l):\n",
    "        self.p = p\n",
    "        self.l = l\n",
    "        self.n = n\n",
    "        self.B = BraidGroup(n)\n",
    "        self.identityElem = self.B([])\n",
    "        self.gens = self.B.generators()\n",
    "        self.leftGens = [g for g in self.gens if self.gens.index(g) + 1 <= (int(n / 2) - 1)]\n",
    "        self.rightGens = [g for g in self.gens if self.gens.index(g) + 1 >= (int(n / 2) + 1)]\n",
    "        self.magic = 5\n",
    "\n",
    "\n",
    "    def hash(self, U, m, T):\n",
    "        parts = [U]\n",
    "        parts.append(int(\"\".join([str(part) for part in [elem.encode(\"utf-8\").hex() for elem in m]]), 16))\n",
    "        #parts.append(int(\"\".join([str(part) for part in [elem.encode(\"hex\") for elem in m]]), 16))\n",
    "        parts.append(self.getIntFromBraid(T))\n",
    "        return int(\"\".join([str(part) for part in parts])) % (self.p-1) + 1\n",
    "    \n",
    "    def hash1(self, m):\n",
    "        return B([int(d) % (B.strands() - 1) + 1 for d in str(abs(hash(m)))])\n",
    "\n",
    "    def getPowForLeftForm(self, leftForm):\n",
    "        deltaPower = leftForm[0]\n",
    "        if deltaPower == self.identityElem:\n",
    "            return 0\n",
    "        else:\n",
    "            return deltaPower.exponent_sum()/self.B.delta().exponent_sum()\n",
    "\n",
    "\n",
    "    def getIntFromBraid(self, braid):\n",
    "        leftForm = braid.left_normal_form()\n",
    "        parts = [self.getPowForLeftForm(leftForm)]\n",
    "        for i in range(1, len(leftForm)):\n",
    "            parts.append(int(\"\".join([str(digit) for digit in leftForm[i].permutation()])))\n",
    "        return int(\"\".join([str(part) for part in parts]))\n",
    "\n",
    "\n",
    "    def ifFromSubgroupL(self, braid):\n",
    "        leftForm = braid.left_normal_form()\n",
    "        inf = self.getPowForLeftForm(leftForm)\n",
    "        sup = inf + len(leftForm) - 1\n",
    "        if(0 <= inf and inf <= sup and sup <= self.l):\n",
    "            return True\n",
    "        return False\n",
    "\n",
    "    def randLBElement(self):\n",
    "        r = random.randint(1, self.magic)\n",
    "        e = self.identityElem\n",
    "        for i in range(0, r):\n",
    "            e *= random.choice(self.leftGens)\n",
    "        return e\n",
    "\n",
    "    def randRBElement(self):\n",
    "        r = random.randint(1, self.magic)\n",
    "        e = self.identityElem\n",
    "        for i in range(0, r):\n",
    "            e *= random.choice(self.rightGens)\n",
    "        return e\n",
    "    def randLBlElement(self):\n",
    "        while True:\n",
    "            elem = self.randLBElement()\n",
    "            if(self.ifFromSubgroupL(elem)):\n",
    "                return elem\n",
    "\n",
    "\n",
    "    def randRBlElement(self):\n",
    "        while True:\n",
    "            elem = self.randRBElement()\n",
    "            if(self.ifFromSubgroupL(elem)):\n",
    "                return elem"
   ]
  },
  {
   "cell_type": "code",
   "execution_count": 122,
   "metadata": {},
   "outputs": [],
   "source": [
    "bsg = BraidSignGroup(9, 17, 5)"
   ]
  },
  {
   "cell_type": "code",
   "execution_count": 123,
   "metadata": {},
   "outputs": [],
   "source": [
    "m = 10\n",
    "n = 10"
   ]
  },
  {
   "cell_type": "code",
   "execution_count": 124,
   "metadata": {},
   "outputs": [],
   "source": [
    "a_A = [bsg.randLBlElement() for _ in range(m)]\n",
    "x_A = [bsg.randLBlElement() for _ in range(m)]\n",
    "y_A = [a_A[i] * x_A[i] / a_A[i]  for i in range(m)]\n",
    "sk_A = [a_A[i]  for i in range(m)]\n",
    "pk_A = [(x_A[i], x_A[i])  for i in range(m)]"
   ]
  },
  {
   "cell_type": "code",
   "execution_count": 125,
   "metadata": {},
   "outputs": [
    {
     "data": {
      "text/plain": [
       "s1*s7*s1^2*s0*s1*s5*s7*s1^2*s0*s3*s2*(s1*s0)^2*s0"
      ]
     },
     "execution_count": 125,
     "metadata": {},
     "output_type": "execute_result"
    }
   ],
   "source": [
    "import datetime\n",
    "mw = str(datetime.datetime.now())\n",
    "bsg.hash1(mw)"
   ]
  },
  {
   "cell_type": "code",
   "execution_count": null,
   "metadata": {},
   "outputs": [],
   "source": []
  }
 ],
 "metadata": {
  "kernelspec": {
   "display_name": "SageMath 9.0",
   "language": "sage",
   "name": "sagemath"
  },
  "language_info": {
   "codemirror_mode": {
    "name": "ipython",
    "version": 3
   },
   "file_extension": ".py",
   "mimetype": "text/x-python",
   "name": "python",
   "nbconvert_exporter": "python",
   "pygments_lexer": "ipython3",
   "version": "3.7.6"
  }
 },
 "nbformat": 4,
 "nbformat_minor": 2
}
