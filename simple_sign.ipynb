{
 "cells": [
  {
   "cell_type": "code",
   "execution_count": 1,
   "metadata": {},
   "outputs": [],
   "source": [
    "class BraidSignGroup:\n",
    "    def __init__(self, n, p, l):\n",
    "        self.p = p\n",
    "        self.l = l\n",
    "        self.n = n\n",
    "        self.B = BraidGroup(n)\n",
    "        self.identityElem = self.B([])\n",
    "        self.gens = self.B.generators()\n",
    "        self.leftGens = [g for g in self.gens if self.gens.index(g) + 1 <= (int(n / 2) - 1)]\n",
    "        self.rightGens = [g for g in self.gens if self.gens.index(g) + 1 >= (int(n / 2) + 1)]\n",
    "        self.magic = 5\n",
    "\n",
    "\n",
    "    def hash(self, U, m, T):\n",
    "        parts = [U]\n",
    "        parts.append(int(\"\".join([str(part) for part in [elem.encode(\"utf-8\").hex() for elem in m]]), 16))\n",
    "        #parts.append(int(\"\".join([str(part) for part in [elem.encode(\"hex\") for elem in m]]), 16))\n",
    "        parts.append(self.getIntFromBraid(T))\n",
    "        return int(\"\".join([str(part) for part in parts])) % (self.p-1) + 1\n",
    "    \n",
    "    def hash1(self, m):\n",
    "        return self.B([int(d) % (self.B.strands() - 1) + 1 for d in str(abs(hash(m)))])\n",
    "\n",
    "    def getPowForLeftForm(self, leftForm):\n",
    "        deltaPower = leftForm[0]\n",
    "        if deltaPower == self.identityElem:\n",
    "            return 0\n",
    "        else:\n",
    "            return deltaPower.exponent_sum()/self.B.delta().exponent_sum()\n",
    "\n",
    "\n",
    "    def getIntFromBraid(self, braid):\n",
    "        leftForm = braid.left_normal_form()\n",
    "        parts = [self.getPowForLeftForm(leftForm)]\n",
    "        for i in range(1, len(leftForm)):\n",
    "            parts.append(int(\"\".join([str(digit) for digit in leftForm[i].permutation()])))\n",
    "        return int(\"\".join([str(part) for part in parts]))\n",
    "\n",
    "\n",
    "    def ifFromSubgroupL(self, braid):\n",
    "        leftForm = braid.left_normal_form()\n",
    "        inf = self.getPowForLeftForm(leftForm)\n",
    "        sup = inf + len(leftForm) - 1\n",
    "        if(0 <= inf and inf <= sup and sup <= self.l):\n",
    "            return True\n",
    "        return False\n",
    "\n",
    "    def randLBElement(self):\n",
    "        r = random.randint(1, self.magic)\n",
    "        e = self.identityElem\n",
    "        for i in range(0, r):\n",
    "            e *= random.choice(self.leftGens)\n",
    "        return e\n",
    "\n",
    "    def randRBElement(self):\n",
    "        r = random.randint(1, self.magic)\n",
    "        e = self.identityElem\n",
    "        for i in range(0, r):\n",
    "            e *= random.choice(self.rightGens)\n",
    "        return e\n",
    "    def randLBlElement(self):\n",
    "        while True:\n",
    "            elem = self.randLBElement()\n",
    "            if(self.ifFromSubgroupL(elem)):\n",
    "                return elem\n",
    "\n",
    "\n",
    "    def randRBlElement(self):\n",
    "        while True:\n",
    "            elem = self.randRBElement()\n",
    "            if(self.ifFromSubgroupL(elem)):\n",
    "                return elem"
   ]
  },
  {
   "cell_type": "markdown",
   "metadata": {},
   "source": [
    "# INIT"
   ]
  },
  {
   "cell_type": "code",
   "execution_count": 2,
   "metadata": {},
   "outputs": [],
   "source": [
    "bsg = BraidSignGroup(9, 17, 5)"
   ]
  },
  {
   "cell_type": "code",
   "execution_count": 25,
   "metadata": {},
   "outputs": [
    {
     "data": {
      "text/plain": [
       "12"
      ]
     },
     "execution_count": 25,
     "metadata": {},
     "output_type": "execute_result"
    }
   ],
   "source": [
    "emails = [\n",
    "'phish@att.net',\n",
    "'gumpish@aol.com',\n",
    "'fatelk@comcast.net',\n",
    "'wkrebs@verizon.net',\n",
    "'kmself@aol.com',\n",
    "'sthomas@yahoo.com',\n",
    "'lishoy@gmail.com',\n",
    "'muzzy@verizon.net',\n",
    "'cameron@mac.com',\n",
    "'neonatus@live.com',\n",
    "'jramio@verizon.net',\n",
    "'msusa@mac.com',\n",
    "]\n",
    "len(emails)"
   ]
  },
  {
   "cell_type": "code",
   "execution_count": 26,
   "metadata": {},
   "outputs": [],
   "source": [
    "n = 12\n",
    "t = 8"
   ]
  },
  {
   "cell_type": "code",
   "execution_count": 27,
   "metadata": {},
   "outputs": [],
   "source": [
    "MK = bsg.randLBElement() # master key"
   ]
  },
  {
   "cell_type": "code",
   "execution_count": 28,
   "metadata": {},
   "outputs": [
    {
     "data": {
      "text/plain": [
       "70"
      ]
     },
     "execution_count": 28,
     "metadata": {},
     "output_type": "execute_result"
    }
   ],
   "source": [
    "S = randint(1, 97)\n",
    "S"
   ]
  },
  {
   "cell_type": "code",
   "execution_count": 44,
   "metadata": {},
   "outputs": [],
   "source": [
    "p = 425776014743526829624250629399\n",
    "R = PolynomialRing(GF(p), 'x')\n",
    "R, x = R.objgen()"
   ]
  },
  {
   "cell_type": "code",
   "execution_count": 45,
   "metadata": {},
   "outputs": [
    {
     "data": {
      "text/plain": [
       "24224576952094378612081184921*x^7 + 353558348783471185147939897874*x^6 + 155102669868851680222693629212*x^5 + 44556402663319110725102162567*x^4 + 405648469560589116810745130442*x^3 + 322166312392659793964639384151*x^2 + 181423861179578808196669446864*x + 70"
      ]
     },
     "execution_count": 45,
     "metadata": {},
     "output_type": "execute_result"
    }
   ],
   "source": [
    "f = R.random_element(t-1)\n",
    "f = f - f % x + S\n",
    "f"
   ]
  },
  {
   "cell_type": "code",
   "execution_count": 46,
   "metadata": {},
   "outputs": [
    {
     "data": {
      "text/plain": [
       "([5089000117413736082,\n",
       "  3829310647238012714,\n",
       "  1264183756410784295,\n",
       "  425776014739629859158391272903,\n",
       "  425776014737713878572803927365,\n",
       "  425776014736781648236069372993,\n",
       "  7828386037061962381,\n",
       "  6998301396780504852,\n",
       "  8191655294231708130,\n",
       "  1655757601632062722,\n",
       "  4807671426118815052,\n",
       "  5806903836064515676],\n",
       " [104116276807776751071005850640,\n",
       "  91893051024319818695122853693,\n",
       "  315743277885918124882483999506,\n",
       "  398427178028449392361861166739,\n",
       "  213004332783286242143334272907,\n",
       "  62879055574988279895497291090,\n",
       "  381579754641945698239521807422,\n",
       "  274842569547182019443387539088,\n",
       "  12762328634704455236374143872,\n",
       "  177833959185348940283413523477,\n",
       "  244884724573558152843046860479,\n",
       "  233498733291703896113191173169])"
      ]
     },
     "execution_count": 46,
     "metadata": {},
     "output_type": "execute_result"
    }
   ],
   "source": [
    "X = [hash(e) % p if hash(e) % p != 0 else 1 for e in emails]\n",
    "Y = [f(x) for x in X]\n",
    "X, Y"
   ]
  },
  {
   "cell_type": "markdown",
   "metadata": {},
   "source": [
    "# SIGN"
   ]
  },
  {
   "cell_type": "code",
   "execution_count": 47,
   "metadata": {},
   "outputs": [],
   "source": [
    "import random \n",
    "t_ids = list(range(len(emails)))\n",
    "random.shuffle(t_ids)\n",
    "t_ids = t_ids[:t]"
   ]
  },
  {
   "cell_type": "code",
   "execution_count": 48,
   "metadata": {},
   "outputs": [
    {
     "data": {
      "text/plain": [
       "[(7828386037061962381, 381579754641945698239521807422),\n",
       " (1655757601632062722, 177833959185348940283413523477),\n",
       " (3829310647238012714, 91893051024319818695122853693),\n",
       " (5806903836064515676, 233498733291703896113191173169),\n",
       " (425776014737713878572803927365, 213004332783286242143334272907),\n",
       " (4807671426118815052, 244884724573558152843046860479),\n",
       " (425776014739629859158391272903, 398427178028449392361861166739),\n",
       " (425776014736781648236069372993, 62879055574988279895497291090)]"
      ]
     },
     "execution_count": 48,
     "metadata": {},
     "output_type": "execute_result"
    }
   ],
   "source": [
    "t_X = [X[i] for i in t_ids]\n",
    "t_Y = [Y[i] for i in t_ids]\n",
    "points = list(zip(t_X, t_Y))\n",
    "points"
   ]
  },
  {
   "cell_type": "code",
   "execution_count": 49,
   "metadata": {},
   "outputs": [
    {
     "data": {
      "text/plain": [
       "24224576952094378612081184921*x^7 + 353558348783471185147939897874*x^6 + 155102669868851680222693629212*x^5 + 44556402663319110725102162567*x^4 + 405648469560589116810745130442*x^3 + 322166312392659793964639384151*x^2 + 181423861179578808196669446864*x + 70"
      ]
     },
     "execution_count": 49,
     "metadata": {},
     "output_type": "execute_result"
    }
   ],
   "source": [
    "f = R.lagrange_polynomial(points)\n",
    "f"
   ]
  },
  {
   "cell_type": "code",
   "execution_count": 229,
   "metadata": {},
   "outputs": [
    {
     "data": {
      "text/plain": [
       "461"
      ]
     },
     "execution_count": 229,
     "metadata": {},
     "output_type": "execute_result"
    }
   ],
   "source": [
    "S = f%x\n",
    "S"
   ]
  },
  {
   "cell_type": "code",
   "execution_count": 231,
   "metadata": {},
   "outputs": [
    {
     "data": {
      "text/plain": [
       "(s2^2*s0)^461"
      ]
     },
     "execution_count": 231,
     "metadata": {},
     "output_type": "execute_result"
    }
   ],
   "source": [
    "sign_k = MK**S\n",
    "sign_k"
   ]
  },
  {
   "cell_type": "code",
   "execution_count": 232,
   "metadata": {},
   "outputs": [],
   "source": [
    "msg = 'hello'\n",
    "h = bsg.hash1(msg)"
   ]
  },
  {
   "cell_type": "code",
   "execution_count": 233,
   "metadata": {},
   "outputs": [],
   "source": [
    "sign = sign_k * h / sign_k"
   ]
  },
  {
   "cell_type": "markdown",
   "metadata": {},
   "source": [
    "# VERIFICATION"
   ]
  },
  {
   "cell_type": "code",
   "execution_count": 235,
   "metadata": {},
   "outputs": [
    {
     "data": {
      "text/plain": [
       "True"
      ]
     },
     "execution_count": 235,
     "metadata": {},
     "output_type": "execute_result"
    }
   ],
   "source": [
    "sign.is_conjugated(bsg.hash1(msg))"
   ]
  },
  {
   "cell_type": "code",
   "execution_count": 69,
   "metadata": {},
   "outputs": [
    {
     "data": {
      "text/plain": [
       "84342368487090800366523834928142263660104883695016514377462985829716817089965"
      ]
     },
     "execution_count": 69,
     "metadata": {},
     "output_type": "execute_result"
    }
   ],
   "source": []
  },
  {
   "cell_type": "code",
   "execution_count": 55,
   "metadata": {},
   "outputs": [
    {
     "data": {
      "text/plain": [
       "[310336322056855043,\n",
       " 1666657136041441915,\n",
       " 3255553097392970539,\n",
       " 4514920055187772626,\n",
       " 5012798650383826122,\n",
       " 8365634444100954542,\n",
       " 425776014737176155882656980968,\n",
       " 425776014739939764057783600870]"
      ]
     },
     "execution_count": 55,
     "metadata": {},
     "output_type": "execute_result"
    }
   ],
   "source": [
    "a = [4514920055187772626, 310336322056855043, 3255553097392970539, 8365634444100954542, 5012798650383826122, 1666657136041441915, 425776014737176155882656980968, 425776014739939764057783600870]\n",
    "sorted(a)"
   ]
  },
  {
   "cell_type": "code",
   "execution_count": null,
   "metadata": {},
   "outputs": [],
   "source": []
  }
 ],
 "metadata": {
  "kernelspec": {
   "display_name": "SageMath 9.0",
   "language": "sage",
   "name": "sagemath"
  },
  "language_info": {
   "codemirror_mode": {
    "name": "ipython",
    "version": 3
   },
   "file_extension": ".py",
   "mimetype": "text/x-python",
   "name": "python",
   "nbconvert_exporter": "python",
   "pygments_lexer": "ipython3",
   "version": "3.7.6"
  }
 },
 "nbformat": 4,
 "nbformat_minor": 2
}
