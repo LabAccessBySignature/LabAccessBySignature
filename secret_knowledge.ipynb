{
 "cells": [
  {
   "cell_type": "code",
   "execution_count": 61,
   "metadata": {},
   "outputs": [],
   "source": [
    "import random"
   ]
  },
  {
   "cell_type": "code",
   "execution_count": 62,
   "metadata": {},
   "outputs": [],
   "source": [
    "class BraidSignGroup:\n",
    "    def __init__(self, n, p, l):\n",
    "        self.p = p\n",
    "        self.l = l\n",
    "        self.n = n\n",
    "        self.B = BraidGroup(n)\n",
    "        self.identityElem = self.B([])\n",
    "        self.gens = self.B.generators()\n",
    "        self.leftGens = [g for g in self.gens if self.gens.index(g) + 1 <= (int(n / 2) - 1)]\n",
    "        self.rightGens = [g for g in self.gens if self.gens.index(g) + 1 >= (int(n / 2) + 1)]\n",
    "        self.magic = 5\n",
    "\n",
    "\n",
    "    def hash(self, U, m, T):\n",
    "        parts = [U]\n",
    "        parts.append(int(\"\".join([str(part) for part in [elem.encode(\"utf-8\").hex() for elem in m]]), 16))\n",
    "        #parts.append(int(\"\".join([str(part) for part in [elem.encode(\"hex\") for elem in m]]), 16))\n",
    "        parts.append(self.getIntFromBraid(T))\n",
    "        return int(\"\".join([str(part) for part in parts])) % (self.p-1) + 1\n",
    "    \n",
    "    def hash1(self, m):\n",
    "        return self.B([int(d) % (self.B.strands() - 1) + 1 for d in str(abs(hash(m)))])\n",
    "\n",
    "    def getPowForLeftForm(self, leftForm):\n",
    "        deltaPower = leftForm[0]\n",
    "        if deltaPower == self.identityElem:\n",
    "            return 0\n",
    "        else:\n",
    "            return deltaPower.exponent_sum()/self.B.delta().exponent_sum()\n",
    "\n",
    "\n",
    "    def getIntFromBraid(self, braid):\n",
    "        leftForm = braid.left_normal_form()\n",
    "        parts = [self.getPowForLeftForm(leftForm)]\n",
    "        for i in range(1, len(leftForm)):\n",
    "            parts.append(int(\"\".join([str(digit) for digit in leftForm[i].permutation()])))\n",
    "        return int(\"\".join([str(part) for part in parts]))\n",
    "\n",
    "\n",
    "    def ifFromSubgroupL(self, braid):\n",
    "        leftForm = braid.left_normal_form()\n",
    "        inf = self.getPowForLeftForm(leftForm)\n",
    "        sup = inf + len(leftForm) - 1\n",
    "        if(0 <= inf and inf <= sup and sup <= self.l):\n",
    "            return True\n",
    "        return False\n",
    "\n",
    "    def randLBElement(self):\n",
    "        r = random.randint(1, self.magic)\n",
    "        e = self.identityElem\n",
    "        for i in range(0, r):\n",
    "            e *= random.choice(self.leftGens)\n",
    "        return e\n",
    "\n",
    "    def randRBElement(self):\n",
    "        r = random.randint(1, self.magic)\n",
    "        e = self.identityElem\n",
    "        for i in range(0, r):\n",
    "            e *= random.choice(self.rightGens)\n",
    "        return e\n",
    "    def randLBlElement(self):\n",
    "        while True:\n",
    "            elem = self.randLBElement()\n",
    "            if(self.ifFromSubgroupL(elem)):\n",
    "                return elem\n",
    "\n",
    "\n",
    "    def randRBlElement(self):\n",
    "        while True:\n",
    "            elem = self.randRBElement()\n",
    "            if(self.ifFromSubgroupL(elem)):\n",
    "                return elem"
   ]
  },
  {
   "cell_type": "code",
   "execution_count": 63,
   "metadata": {},
   "outputs": [],
   "source": [
    "bsg = BraidSignGroup(9, 17, 5)"
   ]
  },
  {
   "cell_type": "code",
   "execution_count": 64,
   "metadata": {},
   "outputs": [],
   "source": [
    "x = bsg.randLBElement()\n",
    "a = bsg.randLBElement()\n",
    "z = bsg.randLBElement()\n",
    "\n",
    "y = z * x / z"
   ]
  },
  {
   "cell_type": "code",
   "execution_count": 65,
   "metadata": {},
   "outputs": [],
   "source": [
    "b = z * a * x / z"
   ]
  },
  {
   "cell_type": "code",
   "execution_count": 45,
   "metadata": {},
   "outputs": [
    {
     "data": {
      "text/plain": [
       "0"
      ]
     },
     "execution_count": 45,
     "metadata": {},
     "output_type": "execute_result"
    }
   ],
   "source": [
    "r = random.randint(0, 1)\n",
    "r"
   ]
  },
  {
   "cell_type": "code",
   "execution_count": 46,
   "metadata": {},
   "outputs": [],
   "source": [
    "c = z * a**r * x / z"
   ]
  },
  {
   "cell_type": "code",
   "execution_count": 47,
   "metadata": {},
   "outputs": [
    {
     "name": "stdout",
     "output_type": "stream",
     "text": [
      "True\n"
     ]
    }
   ],
   "source": [
    "if r == 0: print(c == y)\n",
    "else: print(c == b)"
   ]
  },
  {
   "cell_type": "code",
   "execution_count": 53,
   "metadata": {},
   "outputs": [],
   "source": [
    "import pickle, base64"
   ]
  },
  {
   "cell_type": "code",
   "execution_count": 56,
   "metadata": {},
   "outputs": [],
   "source": [
    "enc = base64.b64encode(pickle.dumps(c)).decode()"
   ]
  },
  {
   "cell_type": "code",
   "execution_count": 58,
   "metadata": {},
   "outputs": [
    {
     "data": {
      "text/plain": [
       "s0*s2*s1*s0^-1"
      ]
     },
     "execution_count": 58,
     "metadata": {},
     "output_type": "execute_result"
    }
   ],
   "source": [
    "pickle.loads(base64.b64decode(enc))"
   ]
  },
  {
   "cell_type": "code",
   "execution_count": 59,
   "metadata": {},
   "outputs": [
    {
     "data": {
      "text/plain": [
       "'gANjc2FnZS5ncm91cHMuYnJhaWQKQnJhaWRHcm91cF9jbGFzcwpxAChYAgAAAHMwcQFYAgAAAHMxcQJYAgAAAHMycQNYAgAAAHMzcQRYAgAAAHM0cQVYAgAAAHM1cQZYAgAAAHM2cQdYAgAAAHM3cQh0cQmFcQpScQsoY3NhZ2UucmluZ3MuaW50ZWdlcgptYWtlX2ludGVnZXIKcQxYAQAAADFxDYVxDlJxD2gMWAEAAAAzcRCFcRFScRJoDFgBAAAAMnEThXEUUnEVaAxYAgAAAC0xcRaFcRdScRh0cRmFcRpScRsu'"
      ]
     },
     "execution_count": 59,
     "metadata": {},
     "output_type": "execute_result"
    }
   ],
   "source": [
    "enc"
   ]
  },
  {
   "cell_type": "code",
   "execution_count": null,
   "metadata": {},
   "outputs": [],
   "source": []
  }
 ],
 "metadata": {
  "kernelspec": {
   "display_name": "SageMath 9.0",
   "language": "sage",
   "name": "sagemath"
  },
  "language_info": {
   "codemirror_mode": {
    "name": "ipython",
    "version": 3
   },
   "file_extension": ".py",
   "mimetype": "text/x-python",
   "name": "python",
   "nbconvert_exporter": "python",
   "pygments_lexer": "ipython3",
   "version": "3.7.6"
  }
 },
 "nbformat": 4,
 "nbformat_minor": 2
}
