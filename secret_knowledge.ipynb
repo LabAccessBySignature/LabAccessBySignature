{
 "cells": [
  {
   "cell_type": "code",
   "execution_count": 1,
   "metadata": {},
   "outputs": [],
   "source": [
    "import random"
   ]
  },
  {
   "cell_type": "code",
   "execution_count": 2,
   "metadata": {},
   "outputs": [],
   "source": [
    "class BraidSignGroup:\n",
    "    def __init__(self, n, p, l):\n",
    "        self.p = p\n",
    "        self.l = l\n",
    "        self.n = n\n",
    "        self.B = BraidGroup(n)\n",
    "        self.identityElem = self.B([])\n",
    "        self.gens = self.B.generators()\n",
    "        self.leftGens = [g for g in self.gens if self.gens.index(g) + 1 <= (int(n / 2) - 1)]\n",
    "        self.rightGens = [g for g in self.gens if self.gens.index(g) + 1 >= (int(n / 2) + 1)]\n",
    "        self.magic = 5\n",
    "\n",
    "\n",
    "    def hash(self, U, m, T):\n",
    "        parts = [U]\n",
    "        parts.append(int(\"\".join([str(part) for part in [elem.encode(\"utf-8\").hex() for elem in m]]), 16))\n",
    "        #parts.append(int(\"\".join([str(part) for part in [elem.encode(\"hex\") for elem in m]]), 16))\n",
    "        parts.append(self.getIntFromBraid(T))\n",
    "        return int(\"\".join([str(part) for part in parts])) % (self.p-1) + 1\n",
    "    \n",
    "    def hash1(self, m):\n",
    "        return self.B([int(d) % (self.B.strands() - 1) + 1 for d in str(abs(hash(m)))])\n",
    "\n",
    "    def getPowForLeftForm(self, leftForm):\n",
    "        deltaPower = leftForm[0]\n",
    "        if deltaPower == self.identityElem:\n",
    "            return 0\n",
    "        else:\n",
    "            return deltaPower.exponent_sum()/self.B.delta().exponent_sum()\n",
    "\n",
    "\n",
    "    def getIntFromBraid(self, braid):\n",
    "        leftForm = braid.left_normal_form()\n",
    "        parts = [self.getPowForLeftForm(leftForm)]\n",
    "        for i in range(1, len(leftForm)):\n",
    "            parts.append(int(\"\".join([str(digit) for digit in leftForm[i].permutation()])))\n",
    "        return int(\"\".join([str(part) for part in parts]))\n",
    "\n",
    "\n",
    "    def ifFromSubgroupL(self, braid):\n",
    "        leftForm = braid.left_normal_form()\n",
    "        inf = self.getPowForLeftForm(leftForm)\n",
    "        sup = inf + len(leftForm) - 1\n",
    "        if(0 <= inf and inf <= sup and sup <= self.l):\n",
    "            return True\n",
    "        return False\n",
    "\n",
    "    def randLBElement(self):\n",
    "        r = random.randint(1, self.magic)\n",
    "        e = self.identityElem\n",
    "        for i in range(0, r):\n",
    "            e *= random.choice(self.leftGens)\n",
    "        return e\n",
    "\n",
    "    def randRBElement(self):\n",
    "        r = random.randint(1, self.magic)\n",
    "        e = self.identityElem\n",
    "        for i in range(0, r):\n",
    "            e *= random.choice(self.rightGens)\n",
    "        return e\n",
    "    def randLBlElement(self):\n",
    "        while True:\n",
    "            elem = self.randLBElement()\n",
    "            if(self.ifFromSubgroupL(elem)):\n",
    "                return elem\n",
    "\n",
    "\n",
    "    def randRBlElement(self):\n",
    "        while True:\n",
    "            elem = self.randRBElement()\n",
    "            if(self.ifFromSubgroupL(elem)):\n",
    "                return elem"
   ]
  },
  {
   "cell_type": "code",
   "execution_count": 119,
   "metadata": {},
   "outputs": [],
   "source": [
    "bsg = BraidSignGroup(24, 17, 16)"
   ]
  },
  {
   "cell_type": "code",
   "execution_count": 121,
   "metadata": {},
   "outputs": [],
   "source": [
    "class P:\n",
    "    def __init__(self, x, y, z):\n",
    "        self.x = x\n",
    "        self.y = y\n",
    "        self.z = z\n",
    "    def step_1(self):\n",
    "        a = bsg.randLBElement()\n",
    "        b = self.z * a / self.z\n",
    "        self.a = a\n",
    "        self.b = b\n",
    "        return a, b\n",
    "    \n",
    "    def step_3(self, r):\n",
    "        c = self.z * self.x**(r) * self.a / self.z\n",
    "        return c"
   ]
  },
  {
   "cell_type": "code",
   "execution_count": 123,
   "metadata": {},
   "outputs": [],
   "source": [
    "class P_crack:\n",
    "    def __init__(self, x, y, z):\n",
    "        self.x = x\n",
    "        self.y = y\n",
    "        self.z = z\n",
    "    def step_1(self):\n",
    "        a = bsg.randLBElement()\n",
    "        b = self.z * a / self.z\n",
    "        self.a = a\n",
    "        self.b = b\n",
    "        return a, b\n",
    "    \n",
    "    def step_3(self, r):\n",
    "        c = self.y**r * self.a\n",
    "        return c"
   ]
  },
  {
   "cell_type": "code",
   "execution_count": 124,
   "metadata": {},
   "outputs": [],
   "source": [
    "class V:\n",
    "    def __init__(self, x, y):\n",
    "        self.x = x\n",
    "        self.y = y\n",
    "        \n",
    "    def step_2(self, a, b):\n",
    "        self.a = a\n",
    "        self.b = b\n",
    "        r = random.randint(-15, 16)\n",
    "        self.r = r\n",
    "        return r\n",
    "    \n",
    "    def step_4(self, c):\n",
    "        l = (c / self.b).is_conjugated(self.x**self.r)\n",
    "        r = (self.y**(-self.r)*c).is_conjugated(self.a)   \n",
    "        return l and r"
   ]
  },
  {
   "cell_type": "code",
   "execution_count": 76,
   "metadata": {},
   "outputs": [
    {
     "name": "stdout",
     "output_type": "stream",
     "text": [
      "True True\n"
     ]
    },
    {
     "data": {
      "text/plain": [
       "True"
      ]
     },
     "execution_count": 76,
     "metadata": {},
     "output_type": "execute_result"
    }
   ],
   "source": [
    "p = P(x, y, z)\n",
    "v = V(x, y)\n",
    "\n",
    "a, b = p.step_1()\n",
    "r = v.step_2(a, b)\n",
    "c = p.step_3(r)\n",
    "v.step_4(c)"
   ]
  },
  {
   "cell_type": "code",
   "execution_count": 94,
   "metadata": {},
   "outputs": [
    {
     "data": {
      "text/plain": [
       "(s0, s0*s2*s0*s2^-1*s0^-1, -880, s2*s1^-880*s2^-1*s0)"
      ]
     },
     "execution_count": 94,
     "metadata": {},
     "output_type": "execute_result"
    }
   ],
   "source": [
    "#False alarm\n",
    "a, b, r, c"
   ]
  },
  {
   "cell_type": "code",
   "execution_count": null,
   "metadata": {},
   "outputs": [],
   "source": []
  }
 ],
 "metadata": {
  "kernelspec": {
   "display_name": "SageMath 9.1",
   "language": "sage",
   "name": "sagemath"
  },
  "language_info": {
   "codemirror_mode": {
    "name": "ipython",
    "version": 3
   },
   "file_extension": ".py",
   "mimetype": "text/x-python",
   "name": "python",
   "nbconvert_exporter": "python",
   "pygments_lexer": "ipython3",
   "version": "3.7.8"
  }
 },
 "nbformat": 4,
 "nbformat_minor": 2
}
